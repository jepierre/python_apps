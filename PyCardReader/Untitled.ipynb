{
 "cells": [
  {
   "cell_type": "code",
   "execution_count": 10,
   "metadata": {},
   "outputs": [],
   "source": [
    "#import needed module\n",
    "import cv2 as cv\n",
    "import pytesseract\n",
    "\n",
    "#set pytesseract location\n",
    "pytesseract.pytesseract.tesseract_cmd = r'C:\\Program Files (x86)\\Tesseract-OCR\\tesseract.exe'"
   ]
  },
  {
   "cell_type": "code",
   "execution_count": 28,
   "metadata": {},
   "outputs": [],
   "source": [
    "im = cv.imread('images/credit_card_05.png')\n",
    "cv.namedWindow('original', cv.WINDOW_AUTOSIZE)\n",
    "cv.imshow('original', im)\n",
    "cv.waitKey(0)\n",
    "cv.destroyWindow('original')"
   ]
  },
  {
   "cell_type": "code",
   "execution_count": 29,
   "metadata": {},
   "outputs": [],
   "source": [
    "#turn image to grayscale\n",
    "gray = cv.cvtColor(im, cv.COLOR_BGR2GRAY)"
   ]
  },
  {
   "cell_type": "code",
   "execution_count": 30,
   "metadata": {},
   "outputs": [],
   "source": [
    "#apply thresholding\n",
    "gray = cv.threshold(gray, 0, 250, cv.THRESH_BINARY|cv.THRESH_OTSU)[1]"
   ]
  },
  {
   "cell_type": "code",
   "execution_count": 25,
   "metadata": {},
   "outputs": [],
   "source": [
    "im_b = cv.GaussianBlur(im, (5,5), 0)"
   ]
  },
  {
   "cell_type": "code",
   "execution_count": 31,
   "metadata": {},
   "outputs": [
    {
     "name": "stdout",
     "output_type": "stream",
     "text": [
      "a\n",
      "\n",
      "or e A\n",
      "\n",
      "5476 7678 987k 5432\n",
      "\n",
      "sire\n",
      "worn wo\n",
      "\n",
      "01/14 ¢ 01/18\n",
      "COMPANY NaME\n",
      "\n",
      "h\n",
      "|\n",
      "|\n",
      "|\n",
      "|\n",
      "|\n",
      "\n",
      "- M stepHens J\n"
     ]
    }
   ],
   "source": [
    "print(pytesseract.image_to_string(gray))"
   ]
  },
  {
   "cell_type": "code",
   "execution_count": null,
   "metadata": {},
   "outputs": [],
   "source": []
  },
  {
   "cell_type": "code",
   "execution_count": null,
   "metadata": {},
   "outputs": [],
   "source": []
  }
 ],
 "metadata": {
  "kernelspec": {
   "display_name": "Python 3",
   "language": "python",
   "name": "python3"
  },
  "language_info": {
   "codemirror_mode": {
    "name": "ipython",
    "version": 3
   },
   "file_extension": ".py",
   "mimetype": "text/x-python",
   "name": "python",
   "nbconvert_exporter": "python",
   "pygments_lexer": "ipython3",
   "version": "3.6.4"
  }
 },
 "nbformat": 4,
 "nbformat_minor": 2
}
